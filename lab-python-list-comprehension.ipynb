{
 "cells": [
  {
   "cell_type": "markdown",
   "id": "25d7736c-ba17-4aff-b6bb-66eba20fbf4e",
   "metadata": {},
   "source": [
    "# Lab | List, Dict and Set Comprehension"
   ]
  },
  {
   "cell_type": "markdown",
   "id": "7dd3cbde-675a-4b81-92c3-f728846dbe06",
   "metadata": {},
   "source": [
    "## Exercise: Managing Customer Orders Optimized with Comprehension"
   ]
  },
  {
   "cell_type": "markdown",
   "id": "5d500160-2fb7-4777-b5e4-09d45ebaf328",
   "metadata": {},
   "source": [
    "In the previous exercise, you developed a program to manage customer orders and inventory. Now, let's take it a step further and incorporate comprehension into your code.\n",
    "\n",
    "Follow the steps below to complete the exercise:\n",
    "\n",
    "1. Review your code from the previous exercise and identify areas where you can apply comprehension to simplify and streamline your code. \n",
    "\n",
    "    - *Hint: Apply it to initialize inventory, updating the inventory and printing the updated inventory.*\n",
    "    \n",
    "    - For example, in initializing the inventory, we could have:\n",
    "    \n",
    "        ```python\n",
    "        def initialize_inventory(products):\n",
    "            inventory = {product: int(input(f\"Enter the quantity of {product}s available: \")) for product in products}\n",
    "            return inventory\n",
    "\n",
    "        ```\n",
    "<br>\n",
    "    \n",
    "    \n",
    "2. Modify the function get_customer_orders so it prompts the user to enter the number of customer orders and gathers the product names using a loop and user input. Use comprehension.\n",
    "\n",
    "3. Add a new function to calculate the total price of the customer order. For each product in customer_orders, prompt the user to enter the price of that product. Use comprehension to calculate the total price. Note: assume that the user can only have 1 unit of each product.\n",
    "\n",
    "4. Modify the update_inventory function to remove the product from the inventory if its quantity becomes zero after fulfilling the customer orders. Use comprehension to filter out the products with a quantity of zero from the inventory.\n",
    "\n",
    "5. Print the total price of the customer order.\n",
    "\n",
    "Your code should produce output similar to the following:\n",
    "\n",
    "```python\n",
    "Enter the quantity of t-shirts available:  5\n",
    "Enter the quantity of mugs available:  4\n",
    "Enter the quantity of hats available:  3\n",
    "Enter the quantity of books available:  2\n",
    "Enter the quantity of keychains available:  1\n",
    "Enter the number of customer orders:  2\n",
    "Enter the name of a product that a customer wants to order:  hat\n",
    "Enter the name of a product that a customer wants to order:  keychain\n",
    "\n",
    "Order Statistics:\n",
    "Total Products Ordered: 2\n",
    "Percentage of Unique Products Ordered: 40.0\n",
    "\n",
    "Updated Inventory:\n",
    "t-shirt: 5\n",
    "mug: 4\n",
    "hat: 2\n",
    "book: 2\n",
    "Enter the price of keychain:  5\n",
    "Enter the price of hat:  10\n",
    "Total Price: 15.0\n",
    "\n",
    "```\n"
   ]
  },
  {
   "cell_type": "code",
   "execution_count": 81,
   "id": "80bc8735-45d5-4da2-882b-3ed85eabc0b2",
   "metadata": {},
   "outputs": [],
   "source": [
    "\n",
    "def initialize_inventory(products):\n",
    "    inventory = {product: int(input(f\"Enter the quantity of {product} available: \")) for product in products}\n",
    "    return inventory\n",
    "    "
   ]
  },
  {
   "cell_type": "code",
   "execution_count": 83,
   "id": "7256281a-df1c-4a18-87d3-a57a043e94f7",
   "metadata": {},
   "outputs": [],
   "source": [
    "def get_customer_orders():\n",
    "    num_orders = int(input(\"Enter the number of items you want to order\"))\n",
    "    return {input(f\"Please choose an item from {products}:\") for i in range(num_orders)}\n",
    "    "
   ]
  },
  {
   "cell_type": "code",
   "execution_count": 85,
   "id": "473dc039-7a51-4108-bcf8-225d7e8003f6",
   "metadata": {},
   "outputs": [],
   "source": [
    " def update_inventory(customer_orders, inventory): \n",
    "    {inventory.update({product: value-1}) for product, value in inventory.items() if product in customer_orders}\n",
    "    return inventory\n"
   ]
  },
  {
   "cell_type": "code",
   "execution_count": 87,
   "id": "05eef138-509c-428d-8af4-6d809061cf5d",
   "metadata": {},
   "outputs": [],
   "source": [
    "def print_updated_inventory(inventory):\n",
    "    print(f\"The available amount of {i} is {inventory[i]}\" for i in products)"
   ]
  },
  {
   "cell_type": "code",
   "execution_count": 89,
   "id": "ee6fc3a5-104b-444e-96c0-30ef394d9a06",
   "metadata": {},
   "outputs": [],
   "source": [
    "def calculate_order_statistics(customer_orders, products):\n",
    "    total_product_ordered = len(customer_orders)\n",
    "    uniqe_product_ordered_percentage = (len(customer_orders)/len(products)*100)\n",
    "    order_statistics = (total_product_ordered, uniqe_product_ordered_percentage)\n",
    "\n",
    "    return order_statistics\n"
   ]
  },
  {
   "cell_type": "code",
   "execution_count": 91,
   "id": "a5b81b47-228f-4078-bff9-d0959891e01f",
   "metadata": {},
   "outputs": [],
   "source": [
    "def print_order_statistics(order_statistics):\n",
    "    total_product_ordered, uniqe_product_ordered_percentage = order_statistics\n",
    "    print(\"Order Statistics:\")\n",
    "    print(f\"Total Products Ordered: {total_product_ordered}\")\n",
    "    print(f\"Percentage of Unique Products Ordered: {uniqe_product_ordered_percentage}\")\n"
   ]
  },
  {
   "cell_type": "code",
   "execution_count": 93,
   "id": "513f61dc-98df-4553-9f63-f7135bf412e7",
   "metadata": {},
   "outputs": [],
   "source": [
    "def print_updated_inventory(inventory):\n",
    "    print(\"Updated Inventory:\")\n",
    "    [print (f\"{product}: {quantity}\") for product, quantity  in inventory.items()]"
   ]
  },
  {
   "cell_type": "code",
   "execution_count": 95,
   "id": "16d2e27f-5547-424c-a8bb-457c4af57228",
   "metadata": {},
   "outputs": [],
   "source": [
    "def calculat_total_price(customer_orders):\n",
    "    total_price = [float(input(f\"Enter the price of {i}: \")) for i in customer_orders]\n",
    "    return sum(total_price)\n"
   ]
  },
  {
   "cell_type": "code",
   "execution_count": 97,
   "id": "1c900296-7f7e-450c-84c5-2a9d513b75be",
   "metadata": {},
   "outputs": [
    {
     "name": "stdin",
     "output_type": "stream",
     "text": [
      "Enter the quantity of t-shirt available:  5\n",
      "Enter the quantity of mug available:  5\n",
      "Enter the quantity of hat available:  5\n",
      "Enter the quantity of book available:  5\n",
      "Enter the quantity of keychain available:  5\n",
      "Enter the number of items you want to order 2\n",
      "Please choose an item from ['t-shirt', 'mug', 'hat', 'book', 'keychain']: hat\n",
      "Please choose an item from ['t-shirt', 'mug', 'hat', 'book', 'keychain']: mug\n"
     ]
    },
    {
     "name": "stdout",
     "output_type": "stream",
     "text": [
      "Order Statistics:\n",
      "Total Products Ordered: 2\n",
      "Percentage of Unique Products Ordered: 40.0\n",
      "Updated Inventory:\n",
      "t-shirt: 5\n",
      "mug: 4\n",
      "hat: 4\n",
      "book: 5\n",
      "keychain: 5\n"
     ]
    },
    {
     "name": "stdin",
     "output_type": "stream",
     "text": [
      "Enter the price of mug:  5\n",
      "Enter the price of hat:  5\n"
     ]
    },
    {
     "name": "stdout",
     "output_type": "stream",
     "text": [
      "Total Price:  10.0\n"
     ]
    }
   ],
   "source": [
    "products = [\"t-shirt\", \"mug\", \"hat\", \"book\", \"keychain\"]\n",
    "inventory = initialize_inventory(products)\n",
    "customer_orders = get_customer_orders()\n",
    "inventory = update_inventory(customer_orders, inventory)\n",
    "order_statistics = calculate_order_statistics(customer_orders, products)\n",
    "print_order_statistics(order_statistics)\n",
    "print_updated_inventory(inventory)\n",
    "total_price= calculat_total_price(customer_orders)\n",
    "print (\"Total Price: \", total_price)"
   ]
  }
 ],
 "metadata": {
  "kernelspec": {
   "display_name": "Python 3 (ipykernel)",
   "language": "python",
   "name": "python3"
  },
  "language_info": {
   "codemirror_mode": {
    "name": "ipython",
    "version": 3
   },
   "file_extension": ".py",
   "mimetype": "text/x-python",
   "name": "python",
   "nbconvert_exporter": "python",
   "pygments_lexer": "ipython3",
   "version": "3.11.5"
  }
 },
 "nbformat": 4,
 "nbformat_minor": 5
}
